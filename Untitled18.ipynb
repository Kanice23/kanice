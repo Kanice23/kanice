{
  "nbformat": 4,
  "nbformat_minor": 0,
  "metadata": {
    "colab": {
      "provenance": [],
      "authorship_tag": "ABX9TyOEYH6enzzK7IlZMWjBNLYa",
      "include_colab_link": true
    },
    "kernelspec": {
      "name": "python3",
      "display_name": "Python 3"
    },
    "language_info": {
      "name": "python"
    }
  },
  "cells": [
    {
      "cell_type": "markdown",
      "metadata": {
        "id": "view-in-github",
        "colab_type": "text"
      },
      "source": [
        "<a href=\"https://colab.research.google.com/github/Kanice23/kanice/blob/main/Untitled18.ipynb\" target=\"_parent\"><img src=\"https://colab.research.google.com/assets/colab-badge.svg\" alt=\"Open In Colab\"/></a>"
      ]
    },
    {
      "cell_type": "code",
      "execution_count": 2,
      "metadata": {
        "colab": {
          "base_uri": "https://localhost:8080/"
        },
        "id": "oEd85QfRkDEQ",
        "outputId": "74401d54-93d5-4785-83da-d716e46fa6cb"
      },
      "outputs": [
        {
          "output_type": "stream",
          "name": "stdout",
          "text": [
            "請輸入分數70\n",
            "及格\n"
          ]
        }
      ],
      "source": [
        "score = int(input(\"請輸入分數\"))\n",
        "if (score>=60):\n",
        "  print(\"及格\")"
      ]
    },
    {
      "cell_type": "code",
      "source": [
        "數學 =60\n",
        "英文 =50\n",
        "if 數學>英文:\n",
        " print(\"數學比較高\")\n",
        "else:\n",
        " print(\"英文比較高\")"
      ],
      "metadata": {
        "colab": {
          "base_uri": "https://localhost:8080/"
        },
        "id": "X9RXWiCAk21A",
        "outputId": "066e5148-04f7-4763-fd57-350577a78c3b"
      },
      "execution_count": 4,
      "outputs": [
        {
          "output_type": "stream",
          "name": "stdout",
          "text": [
            "數學比較高\n"
          ]
        }
      ]
    },
    {
      "cell_type": "code",
      "source": [
        "print(\"0501\")"
      ],
      "metadata": {
        "colab": {
          "base_uri": "https://localhost:8080/"
        },
        "id": "AGXmZOqSnozU",
        "outputId": "dca475a8-3d26-4cc8-ee27-3a9a4f83f6a6"
      },
      "execution_count": 5,
      "outputs": [
        {
          "output_type": "stream",
          "name": "stdout",
          "text": [
            "0501\n"
          ]
        }
      ]
    },
    {
      "cell_type": "code",
      "source": [
        "score = int(input(\"請輸入正確密碼\"))\n",
        "if (score>=1234):\n",
        "  print(\"歡迎光臨\")\n"
      ],
      "metadata": {
        "colab": {
          "base_uri": "https://localhost:8080/"
        },
        "id": "uU2NoqsgAkFa",
        "outputId": "9ede8204-b05b-4919-8117-a0d91384b401"
      },
      "execution_count": 2,
      "outputs": [
        {
          "output_type": "stream",
          "name": "stdout",
          "text": [
            "請輸入正確密碼1234\n",
            "歡迎光臨\n"
          ]
        }
      ]
    },
    {
      "cell_type": "code",
      "source": [
        "score = int(input(\"請輸入正確密碼\"))\n",
        "if (score>=1234):\n",
        "  print(\"歡迎光臨\")\n",
        ""
      ],
      "metadata": {
        "colab": {
          "base_uri": "https://localhost:8080/"
        },
        "id": "Hic7DEXDDF-L",
        "outputId": "6eed082c-c162-4b5e-af18-36be7fb80e71"
      },
      "execution_count": 16,
      "outputs": [
        {
          "output_type": "stream",
          "name": "stdout",
          "text": [
            "請輸入正確密碼1234\n",
            "歡迎光臨\n"
          ]
        }
      ]
    },
    {
      "cell_type": "code",
      "source": [
        "password = int(input(\"請輸入密碼\"))\n",
        "if(password == 1234):\n",
        "  print(\"歡迎光臨！\")"
      ],
      "metadata": {
        "colab": {
          "base_uri": "https://localhost:8080/"
        },
        "id": "sz5nIPn0UoV3",
        "outputId": "f3823701-6662-4fd2-f9fd-4530f782b00d"
      },
      "execution_count": 17,
      "outputs": [
        {
          "name": "stdout",
          "output_type": "stream",
          "text": [
            "請輸入密碼1111\n"
          ]
        }
      ]
    },
    {
      "cell_type": "code",
      "source": [
        "rain = input(\"請問今天會下雨嗎?\")\n",
        "if(rain==\"Y\"or rain==\"y\"):\n",
        "    print(\"不用帶傘\")"
      ],
      "metadata": {
        "colab": {
          "base_uri": "https://localhost:8080/"
        },
        "id": "1NmXZy7vUq_n",
        "outputId": "cac50f85-7c07-4754-90d0-a544813ca004"
      },
      "execution_count": 18,
      "outputs": [
        {
          "output_type": "stream",
          "name": "stdout",
          "text": [
            "請問今天會下雨嗎?y\n",
            "不用帶傘\n"
          ]
        }
      ]
    },
    {
      "cell_type": "code",
      "source": [
        "rain = input(\"請問今天會下雨嗎?\")\n",
        "if(rain==\"Y\"or rain==\"y\"):\n",
        "    print(\"不用帶傘\")"
      ],
      "metadata": {
        "colab": {
          "base_uri": "https://localhost:8080/"
        },
        "id": "82KoI6o4UvQe",
        "outputId": "ced81c0f-11da-4d27-8e91-4ec3e17fc815"
      },
      "execution_count": 19,
      "outputs": [
        {
          "output_type": "stream",
          "name": "stdout",
          "text": [
            "請問今天會下雨嗎?Y\n",
            "不用帶傘\n"
          ]
        }
      ]
    },
    {
      "cell_type": "code",
      "source": [
        "number = int(input(\"請輸入正整數\"))\n",
        "if(number % 2 == 0):\n",
        "  print(number,\"為偶數！\")\n",
        "else:\n",
        "  print(number,\"為奇數！\")"
      ],
      "metadata": {
        "colab": {
          "base_uri": "https://localhost:8080/"
        },
        "id": "av1YGnsIU0q_",
        "outputId": "3f91f968-0d89-40e1-ebad-6f7a8e349ffc"
      },
      "execution_count": 20,
      "outputs": [
        {
          "output_type": "stream",
          "name": "stdout",
          "text": [
            "請輸入正整數66\n",
            "66 為偶數！\n"
          ]
        }
      ]
    },
    {
      "cell_type": "code",
      "source": [
        "number = int(input(\"請輸入正整數\"))\n",
        "if(number % 2 == 0):\n",
        "  print(number,\"為偶數！\")\n",
        "else:\n",
        "  print(number,\"為奇數！\")"
      ],
      "metadata": {
        "colab": {
          "base_uri": "https://localhost:8080/"
        },
        "id": "7EhYv2zzU2pZ",
        "outputId": "0592aedb-c834-4e75-fa43-a3ab7695c57c"
      },
      "execution_count": 21,
      "outputs": [
        {
          "output_type": "stream",
          "name": "stdout",
          "text": [
            "請輸入正整數67\n",
            "67 為奇數！\n"
          ]
        }
      ]
    }
  ]
}