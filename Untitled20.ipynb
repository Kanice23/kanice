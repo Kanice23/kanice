{
  "nbformat": 4,
  "nbformat_minor": 0,
  "metadata": {
    "colab": {
      "provenance": [],
      "authorship_tag": "ABX9TyOP+23xwdO/kocfZui/hiD8",
      "include_colab_link": true
    },
    "kernelspec": {
      "name": "python3",
      "display_name": "Python 3"
    },
    "language_info": {
      "name": "python"
    }
  },
  "cells": [
    {
      "cell_type": "markdown",
      "metadata": {
        "id": "view-in-github",
        "colab_type": "text"
      },
      "source": [
        "<a href=\"https://colab.research.google.com/github/Kanice23/kanice/blob/main/Untitled20.ipynb\" target=\"_parent\"><img src=\"https://colab.research.google.com/assets/colab-badge.svg\" alt=\"Open In Colab\"/></a>"
      ]
    },
    {
      "cell_type": "code",
      "execution_count": 2,
      "metadata": {
        "colab": {
          "base_uri": "https://localhost:8080/"
        },
        "id": "nxd5Eoemlrap",
        "outputId": "4b0d8e87-8268-459e-8ebd-59c22608113b"
      },
      "outputs": [
        {
          "output_type": "stream",
          "name": "stdout",
          "text": [
            "請輸入體溫55\n",
            "體溫過高!\n"
          ]
        }
      ],
      "source": [
        "temperature = float(input(\"請輸入體溫\"))\n",
        "if(temperature >= 37.5):\n",
        "  print(\"體溫過高!\")\n",
        "elif(temperature <= 37.4 and temperature >= 37):\n",
        "  print(\"體溫略高!\")\n",
        "elif(temperature <= 36.9 and temperature >= 34):\n",
        "  print(\"體溫正常\")\n",
        "else:\n",
        "  print(\"體溫異常，請重新量測!\")"
      ]
    },
    {
      "cell_type": "code",
      "source": [
        "temperature = float(input(\"請輸入體溫\"))\n",
        "if(temperature >= 37.5):\n",
        "  print(\"體溫過高!\")\n",
        "elif(temperature <= 37.4 and temperature >= 37):\n",
        "  print(\"體溫略高!\")\n",
        "elif(temperature <= 36.9 and temperature >= 34):\n",
        "  print(\"體溫正常\")\n",
        "else:\n",
        "  print(\"體溫異常，請重新量測!\")\n",
        ""
      ],
      "metadata": {
        "colab": {
          "base_uri": "https://localhost:8080/"
        },
        "id": "LUc_Nb7Dl2Z-",
        "outputId": "c0456b12-8d8a-49b9-de7a-6088823f1407"
      },
      "execution_count": 3,
      "outputs": [
        {
          "output_type": "stream",
          "name": "stdout",
          "text": [
            "請輸入體溫37\n",
            "體溫略高!\n"
          ]
        }
      ]
    },
    {
      "cell_type": "code",
      "source": [
        "temperature = float(input(\"請輸入體溫\"))\n",
        "if(temperature >= 37.5):\n",
        "  print(\"體溫過高!\")\n",
        "elif(temperature <= 37.4 and temperature >= 37):\n",
        "  print(\"體溫略高!\")\n",
        "elif(temperature <= 36.9 and temperature >= 34):\n",
        "  print(\"體溫正常\")\n",
        "else:\n",
        "  print(\"體溫異常，請重新量測!\")"
      ],
      "metadata": {
        "colab": {
          "base_uri": "https://localhost:8080/"
        },
        "id": "4f0CnfZvl8AZ",
        "outputId": "6f94f39a-fde9-441b-b726-6e048b8dcee8"
      },
      "execution_count": 4,
      "outputs": [
        {
          "output_type": "stream",
          "name": "stdout",
          "text": [
            "請輸入體溫36\n",
            "體溫正常\n"
          ]
        }
      ]
    },
    {
      "cell_type": "code",
      "source": [
        "temperature = float(input(\"請輸入體溫\"))\n",
        "if(temperature >= 37.5):\n",
        "  print(\"體溫過高!\")\n",
        "elif(temperature <= 37.4 and temperature >= 37):\n",
        "  print(\"體溫略高!\")\n",
        "elif(temperature <= 36.9 and temperature >= 34):\n",
        "  print(\"體溫正常\")\n",
        "else:\n",
        "  print(\"體溫異常，請重新量測!\")"
      ],
      "metadata": {
        "colab": {
          "base_uri": "https://localhost:8080/"
        },
        "id": "55fTFv_OmA31",
        "outputId": "b3dcbc20-6ad5-4491-f918-777ae3f261d4"
      },
      "execution_count": 5,
      "outputs": [
        {
          "output_type": "stream",
          "name": "stdout",
          "text": [
            "請輸入體溫32\n",
            "體溫異常，請重新量測!\n"
          ]
        }
      ]
    },
    {
      "cell_type": "code",
      "source": [
        "grade = int(input(\"請輸入成績\"))\n",
        "if(grade >= 90):\n",
        "  print(\"A\")\n",
        "elif(grade <= 89 and grade >= 80):\n",
        "  print(\"B\")\n",
        "elif(grade <= 79 and grade >= 70):\n",
        "  print(\"C\")\n",
        "elif(grade <= 69 and grade >= 60):\n",
        "  print(\"D\")\n",
        "else:\n",
        "  print(\"E\")"
      ],
      "metadata": {
        "colab": {
          "base_uri": "https://localhost:8080/"
        },
        "id": "b9a5bKMKmPvT",
        "outputId": "e23d6693-d658-4254-dca7-7d4e44377019"
      },
      "execution_count": 6,
      "outputs": [
        {
          "output_type": "stream",
          "name": "stdout",
          "text": [
            "請輸入成績90\n",
            "A\n"
          ]
        }
      ]
    },
    {
      "cell_type": "code",
      "source": [
        "grade = int(input(\"請輸入成績\"))\n",
        "if(grade >= 90):\n",
        "  print(\"A\")\n",
        "elif(grade <= 89 and grade >= 80):\n",
        "  print(\"B\")\n",
        "elif(grade <= 79 and grade >= 70):\n",
        "  print(\"C\")\n",
        "elif(grade <= 69 and grade >= 60):\n",
        "  print(\"D\")\n",
        "else:\n",
        "  print(\"E\")\n",
        ""
      ],
      "metadata": {
        "colab": {
          "base_uri": "https://localhost:8080/"
        },
        "id": "9xfoz7o4mWCg",
        "outputId": "467fc61d-89cd-438f-bd00-6144a2992d9f"
      },
      "execution_count": 7,
      "outputs": [
        {
          "output_type": "stream",
          "name": "stdout",
          "text": [
            "請輸入成績80\n",
            "B\n"
          ]
        }
      ]
    },
    {
      "cell_type": "code",
      "source": [
        "grade = int(input(\"請輸入成績\"))\n",
        "if(grade >= 90):\n",
        "  print(\"A\")\n",
        "elif(grade <= 89 and grade >= 80):\n",
        "  print(\"B\")\n",
        "elif(grade <= 79 and grade >= 70):\n",
        "  print(\"C\")\n",
        "elif(grade <= 69 and grade >= 60):\n",
        "  print(\"D\")\n",
        "else:\n",
        "  print(\"E\")\n",
        ""
      ],
      "metadata": {
        "colab": {
          "base_uri": "https://localhost:8080/"
        },
        "id": "Gw0coOXymZMO",
        "outputId": "93e7198f-fd42-46e8-d98b-85f8783b5274"
      },
      "execution_count": 8,
      "outputs": [
        {
          "output_type": "stream",
          "name": "stdout",
          "text": [
            "請輸入成績70\n",
            "C\n"
          ]
        }
      ]
    },
    {
      "cell_type": "code",
      "source": [
        "grade = int(input(\"請輸入成績\"))\n",
        "if(grade >= 90):\n",
        "  print(\"A\")\n",
        "elif(grade <= 89 and grade >= 80):\n",
        "  print(\"B\")\n",
        "elif(grade <= 79 and grade >= 70):\n",
        "  print(\"C\")\n",
        "elif(grade <= 69 and grade >= 60):\n",
        "  print(\"D\")\n",
        "else:\n",
        "  print(\"E\")4"
      ],
      "metadata": {
        "colab": {
          "base_uri": "https://localhost:8080/"
        },
        "id": "QT_NWxjZmcpe",
        "outputId": "8d533782-74e4-4ffc-869f-b31c6c72ca91"
      },
      "execution_count": 9,
      "outputs": [
        {
          "output_type": "stream",
          "name": "stdout",
          "text": [
            "請輸入成績60\n",
            "D\n"
          ]
        }
      ]
    },
    {
      "cell_type": "code",
      "source": [
        "grade = int(input(\"請輸入成績\"))\n",
        "if(grade >= 90):\n",
        "  print(\"A\")\n",
        "elif(grade <= 89 and grade >= 80):\n",
        "  print(\"B\")\n",
        "elif(grade <= 79 and grade >= 70):\n",
        "  print(\"C\")\n",
        "elif(grade <= 69 and grade >= 60):\n",
        "  print(\"D\")\n",
        "else:\n",
        "  print(\"E\")"
      ],
      "metadata": {
        "colab": {
          "base_uri": "https://localhost:8080/"
        },
        "id": "o9yRBqhMmfzU",
        "outputId": "cba7961f-5bc5-47f9-e9eb-c630fd744ba0"
      },
      "execution_count": 10,
      "outputs": [
        {
          "output_type": "stream",
          "name": "stdout",
          "text": [
            "請輸入成績50\n",
            "E\n"
          ]
        }
      ]
    },
    {
      "cell_type": "code",
      "source": [
        "season = int(input(\"請輸入月份\"))\n",
        "if(season == 3 or season == 4 or season == 5):\n",
        "  print(\"春天!\")\n",
        "elif season == 6 or season == 7 or season == 8:\n",
        "  print(\"夏天!\")\n",
        "elif season == 9 or season == 10 or season == 11:\n",
        "  print(\"秋天!\")\n",
        "elif season == 12 or season == 1 or season == 2:\n",
        "  print(\"冬天!\")\n",
        "else:\n",
        "  print(\"月份不在範圍內!\")"
      ],
      "metadata": {
        "colab": {
          "base_uri": "https://localhost:8080/"
        },
        "id": "5DiGXh2wmi8U",
        "outputId": "41fd7c80-b296-48d3-a2dd-af83b4a96635"
      },
      "execution_count": 11,
      "outputs": [
        {
          "output_type": "stream",
          "name": "stdout",
          "text": [
            "請輸入月份2\n",
            "冬天!\n"
          ]
        }
      ]
    },
    {
      "cell_type": "code",
      "source": [
        "season = int(input(\"請輸入月份\"))\n",
        "if(season == 3 or season == 4 or season == 5):\n",
        "  print(\"春天!\")\n",
        "elif season == 6 or season == 7 or season == 8:\n",
        "  print(\"夏天!\")\n",
        "elif season == 9 or season == 10 or season == 11:\n",
        "  print(\"秋天!\")\n",
        "elif season == 12 or season == 1 or season == 2:\n",
        "  print(\"冬天!\")\n",
        "else:\n",
        "  print(\"月份不在範圍內!\")"
      ],
      "metadata": {
        "colab": {
          "base_uri": "https://localhost:8080/"
        },
        "id": "bV1O5Iuim62_",
        "outputId": "08c8faa7-064a-455a-bea4-3e74a98f9725"
      },
      "execution_count": 12,
      "outputs": [
        {
          "output_type": "stream",
          "name": "stdout",
          "text": [
            "請輸入月份4\n",
            "春天!\n"
          ]
        }
      ]
    },
    {
      "cell_type": "code",
      "source": [
        "season = int(input(\"請輸入月份\"))\n",
        "if(season == 3 or season == 4 or season == 5):\n",
        "  print(\"春天!\")\n",
        "elif season == 6 or season == 7 or season == 8:\n",
        "  print(\"夏天!\")\n",
        "elif season == 9 or season == 10 or season == 11:\n",
        "  print(\"秋天!\")\n",
        "elif season == 12 or season == 1 or season == 2:\n",
        "  print(\"冬天!\")\n",
        "else:\n",
        "  print(\"月份不在範圍內!\")"
      ],
      "metadata": {
        "colab": {
          "base_uri": "https://localhost:8080/"
        },
        "id": "JqkU14TtnrAj",
        "outputId": "ed27d15c-565a-49f8-96f3-71fe4eef89ab"
      },
      "execution_count": 13,
      "outputs": [
        {
          "output_type": "stream",
          "name": "stdout",
          "text": [
            "請輸入月份7\n",
            "夏天!\n"
          ]
        }
      ]
    },
    {
      "cell_type": "code",
      "source": [
        "season = int(input(\"請輸入月份\"))\n",
        "if(season == 3 or season == 4 or season == 5):\n",
        "  print(\"春天!\")\n",
        "elif season == 6 or season == 7 or season == 8:\n",
        "  print(\"夏天!\")\n",
        "elif season == 9 or season == 10 or season == 11:\n",
        "  print(\"秋天!\")\n",
        "elif season == 12 or season == 1 or season == 2:\n",
        "  print(\"冬天!\")\n",
        "else:\n",
        "  print(\"月份不在範圍內!\")\n",
        ""
      ],
      "metadata": {
        "colab": {
          "base_uri": "https://localhost:8080/"
        },
        "id": "chbPbbq9nuBH",
        "outputId": "344586ff-1cd1-44e9-da06-d78228638e8d"
      },
      "execution_count": 14,
      "outputs": [
        {
          "output_type": "stream",
          "name": "stdout",
          "text": [
            "請輸入月份10\n",
            "秋天!\n"
          ]
        }
      ]
    },
    {
      "cell_type": "code",
      "source": [
        "season = int(input(\"請輸入月份\"))\n",
        "if(season == 3 or season == 4 or season == 5):\n",
        "  print(\"春天!\")\n",
        "elif season == 6 or season == 7 or season == 8:\n",
        "  print(\"夏天!\")\n",
        "elif season == 9 or season == 10 or season == 11:\n",
        "  print(\"秋天!\")\n",
        "elif season == 12 or season == 1 or season == 2:\n",
        "  print(\"冬天!\")\n",
        "else:\n",
        "  print(\"月份不在範圍內!\")\n",
        ""
      ],
      "metadata": {
        "colab": {
          "base_uri": "https://localhost:8080/"
        },
        "id": "WRZGQyMenzTe",
        "outputId": "eb7c4d1a-35e3-4620-b86f-95d860fe273e"
      },
      "execution_count": 15,
      "outputs": [
        {
          "output_type": "stream",
          "name": "stdout",
          "text": [
            "請輸入月份13\n",
            "月份不在範圍內!\n"
          ]
        }
      ]
    }
  ]
}